{
 "cells": [
  {
   "cell_type": "code",
   "execution_count": 614,
   "metadata": {},
   "outputs": [],
   "source": [
    "#imports\n",
    "import os\n",
    "import pandas as pd\n",
    "import numpy as np\n",
    "from scipy import stats\n",
    "import matplotlib.pyplot as plt\n",
    "from colorama import Fore"
   ]
  },
  {
   "cell_type": "code",
   "execution_count": 615,
   "metadata": {},
   "outputs": [],
   "source": [
    "#read files\n",
    "os.chdir(r'C:\\Users\\Yael\\.ipynb_checkpoints\\datasets')\n",
    "data = {\n",
    "'megaline_calls' : pd.read_csv('megaline_calls.csv'),\n",
    "'megaline_internet' : pd.read_csv('megaline_internet.csv'),\n",
    "'megaline_messages' : pd.read_csv('megaline_messages.csv'),\n",
    "'megaline_tariffs' : pd.read_csv('megaline_tariffs.csv'),\n",
    "'megaline_users' : pd.read_csv('megaline_users.csv')\n",
    "}"
   ]
  },
  {
   "cell_type": "code",
   "execution_count": 616,
   "metadata": {},
   "outputs": [
    {
     "name": "stdout",
     "output_type": "stream",
     "text": [
      "\u001b[34m megaline_calls \u001b[32m\n",
      "<class 'pandas.core.frame.DataFrame'>\n",
      "RangeIndex: 137735 entries, 0 to 137734\n",
      "Data columns (total 4 columns):\n",
      "id           137735 non-null object\n",
      "user_id      137735 non-null int64\n",
      "call_date    137735 non-null object\n",
      "duration     137735 non-null float64\n",
      "dtypes: float64(1), int64(1), object(2)\n",
      "memory usage: 4.2+ MB\n",
      "\n",
      " None \u001b[33m              user_id       duration\n",
      "count  137735.000000  137735.000000\n",
      "mean     1247.658046       6.745927\n",
      "std       139.416268       5.839241\n",
      "min      1000.000000       0.000000\n",
      "25%      1128.000000       1.290000\n",
      "50%      1247.000000       5.980000\n",
      "75%      1365.000000      10.690000\n",
      "max      1499.000000      37.600000 \n",
      " \u001b[30m          id  user_id   call_date  duration\n",
      "0   1000_93     1000  2018-12-27      8.52\n",
      "1  1000_145     1000  2018-12-27     13.66\n",
      "2  1000_247     1000  2018-12-27     14.48\n",
      "3  1000_309     1000  2018-12-28      5.76\n",
      "4  1000_380     1000  2018-12-30      4.22\n",
      "5  1000_388     1000  2018-12-31      2.20\n",
      "6  1000_510     1000  2018-12-27      5.75\n",
      "7  1000_521     1000  2018-12-28     14.18\n",
      "8  1000_530     1000  2018-12-28      5.77\n",
      "9  1000_544     1000  2018-12-26      4.40 \n",
      "\n",
      "\u001b[34m megaline_internet \u001b[32m\n",
      "<class 'pandas.core.frame.DataFrame'>\n",
      "RangeIndex: 104825 entries, 0 to 104824\n",
      "Data columns (total 4 columns):\n",
      "id              104825 non-null object\n",
      "user_id         104825 non-null int64\n",
      "session_date    104825 non-null object\n",
      "mb_used         104825 non-null float64\n",
      "dtypes: float64(1), int64(1), object(2)\n",
      "memory usage: 3.2+ MB\n",
      "\n",
      " None \u001b[33m              user_id        mb_used\n",
      "count  104825.000000  104825.000000\n",
      "mean     1242.496361     366.713701\n",
      "std       142.053913     277.170542\n",
      "min      1000.000000       0.000000\n",
      "25%      1122.000000     136.080000\n",
      "50%      1236.000000     343.980000\n",
      "75%      1367.000000     554.610000\n",
      "max      1499.000000    1693.470000 \n",
      " \u001b[30m          id  user_id session_date  mb_used\n",
      "0   1000_13     1000   2018-12-29    89.86\n",
      "1  1000_204     1000   2018-12-31     0.00\n",
      "2  1000_379     1000   2018-12-28   660.40\n",
      "3  1000_413     1000   2018-12-26   270.99\n",
      "4  1000_442     1000   2018-12-27   880.22\n",
      "5    1001_0     1001   2018-08-24   284.68\n",
      "6    1001_3     1001   2018-12-09   656.04\n",
      "7    1001_4     1001   2018-11-04    16.97\n",
      "8   1001_10     1001   2018-11-27   135.18\n",
      "9   1001_15     1001   2018-12-13   761.92 \n",
      "\n",
      "\u001b[34m megaline_messages \u001b[32m\n",
      "<class 'pandas.core.frame.DataFrame'>\n",
      "RangeIndex: 76051 entries, 0 to 76050\n",
      "Data columns (total 3 columns):\n",
      "id              76051 non-null object\n",
      "user_id         76051 non-null int64\n",
      "message_date    76051 non-null object\n",
      "dtypes: int64(1), object(2)\n",
      "memory usage: 1.7+ MB\n",
      "\n",
      " None \u001b[33m             user_id\n",
      "count  76051.000000\n",
      "mean    1245.972768\n",
      "std      139.843635\n",
      "min     1000.000000\n",
      "25%     1123.000000\n",
      "50%     1251.000000\n",
      "75%     1362.000000\n",
      "max     1497.000000 \n",
      " \u001b[30m          id  user_id message_date\n",
      "0  1000_125     1000   2018-12-27\n",
      "1  1000_160     1000   2018-12-31\n",
      "2  1000_223     1000   2018-12-31\n",
      "3  1000_251     1000   2018-12-27\n",
      "4  1000_255     1000   2018-12-26\n",
      "5  1000_346     1000   2018-12-29\n",
      "6  1000_386     1000   2018-12-30\n",
      "7  1000_413     1000   2018-12-31\n",
      "8  1000_502     1000   2018-12-27\n",
      "9  1000_525     1000   2018-12-28 \n",
      "\n",
      "\u001b[34m megaline_tariffs \u001b[32m\n",
      "<class 'pandas.core.frame.DataFrame'>\n",
      "RangeIndex: 2 entries, 0 to 1\n",
      "Data columns (total 8 columns):\n",
      "messages_included        2 non-null int64\n",
      "mb_per_month_included    2 non-null int64\n",
      "minutes_included         2 non-null int64\n",
      "usd_monthly_pay          2 non-null int64\n",
      "usd_per_gb               2 non-null int64\n",
      "usd_per_message          2 non-null float64\n",
      "usd_per_minute           2 non-null float64\n",
      "tariff_name              2 non-null object\n",
      "dtypes: float64(2), int64(5), object(1)\n",
      "memory usage: 256.0+ bytes\n",
      "\n",
      " None \u001b[33m        messages_included  mb_per_month_included  minutes_included  \\\n",
      "count           2.000000               2.000000          2.000000   \n",
      "mean          525.000000           23040.000000       1750.000000   \n",
      "std           671.751442           10861.160159       1767.766953   \n",
      "min            50.000000           15360.000000        500.000000   \n",
      "25%           287.500000           19200.000000       1125.000000   \n",
      "50%           525.000000           23040.000000       1750.000000   \n",
      "75%           762.500000           26880.000000       2375.000000   \n",
      "max          1000.000000           30720.000000       3000.000000   \n",
      "\n",
      "       usd_monthly_pay  usd_per_gb  usd_per_message  usd_per_minute  \n",
      "count         2.000000     2.00000         2.000000        2.000000  \n",
      "mean         45.000000     8.50000         0.020000        0.020000  \n",
      "std          35.355339     2.12132         0.014142        0.014142  \n",
      "min          20.000000     7.00000         0.010000        0.010000  \n",
      "25%          32.500000     7.75000         0.015000        0.015000  \n",
      "50%          45.000000     8.50000         0.020000        0.020000  \n",
      "75%          57.500000     9.25000         0.025000        0.025000  \n",
      "max          70.000000    10.00000         0.030000        0.030000   \n",
      " \u001b[30m    messages_included  mb_per_month_included  minutes_included  \\\n",
      "0                 50                  15360               500   \n",
      "1               1000                  30720              3000   \n",
      "\n",
      "   usd_monthly_pay  usd_per_gb  usd_per_message  usd_per_minute tariff_name  \n",
      "0               20          10             0.03            0.03        surf  \n",
      "1               70           7             0.01            0.01    ultimate   \n",
      "\n",
      "\u001b[34m megaline_users \u001b[32m\n",
      "<class 'pandas.core.frame.DataFrame'>\n",
      "RangeIndex: 500 entries, 0 to 499\n",
      "Data columns (total 8 columns):\n",
      "user_id       500 non-null int64\n",
      "first_name    500 non-null object\n",
      "last_name     500 non-null object\n",
      "age           500 non-null int64\n",
      "city          500 non-null object\n",
      "reg_date      500 non-null object\n",
      "tariff        500 non-null object\n",
      "churn_date    34 non-null object\n",
      "dtypes: int64(2), object(6)\n",
      "memory usage: 31.4+ KB\n",
      "\n",
      " None \u001b[33m            user_id         age\n",
      "count   500.000000  500.000000\n",
      "mean   1249.500000   45.486000\n",
      "std     144.481833   16.972269\n",
      "min    1000.000000   18.000000\n",
      "25%    1124.750000   30.000000\n",
      "50%    1249.500000   46.000000\n",
      "75%    1374.250000   61.000000\n",
      "max    1499.000000   75.000000 \n",
      " \u001b[30m    user_id first_name  last_name  age                                    city  \\\n",
      "0     1000   Anamaria      Bauer   45   Atlanta-Sandy Springs-Roswell, GA MSA   \n",
      "1     1001     Mickey  Wilkerson   28         Seattle-Tacoma-Bellevue, WA MSA   \n",
      "2     1002     Carlee    Hoffman   36    Las Vegas-Henderson-Paradise, NV MSA   \n",
      "3     1003   Reynaldo    Jenkins   52                           Tulsa, OK MSA   \n",
      "4     1004    Leonila   Thompson   40         Seattle-Tacoma-Bellevue, WA MSA   \n",
      "5     1005      Livia    Shields   31     Dallas-Fort Worth-Arlington, TX MSA   \n",
      "6     1006     Jesusa   Bradford   73  San Francisco-Oakland-Berkeley, CA MSA   \n",
      "7     1007    Eusebio      Welch   42           Grand Rapids-Kentwood, MI MSA   \n",
      "8     1008      Emely    Hoffman   53       Orlando-Kissimmee-Sanford, FL MSA   \n",
      "9     1009      Gerry     Little   19  San Jose-Sunnyvale-Santa Clara, CA MSA   \n",
      "\n",
      "     reg_date    tariff  churn_date  \n",
      "0  2018-12-24  ultimate         NaN  \n",
      "1  2018-08-13      surf         NaN  \n",
      "2  2018-10-21      surf         NaN  \n",
      "3  2018-01-28      surf         NaN  \n",
      "4  2018-05-23      surf         NaN  \n",
      "5  2018-11-29      surf         NaN  \n",
      "6  2018-11-27  ultimate  2018-12-18  \n",
      "7  2018-07-11      surf         NaN  \n",
      "8  2018-08-03  ultimate         NaN  \n",
      "9  2018-04-22      surf         NaN   \n",
      "\n"
     ]
    }
   ],
   "source": [
    "#view general information\n",
    "for name, file in data.items():\n",
    "    print(Fore.BLUE, name, Fore.GREEN)\n",
    "    print('\\n', file.info(), Fore.YELLOW, file.describe(),'\\n',Fore.BLACK, file.head(10),'\\n')"
   ]
  },
  {
   "cell_type": "markdown",
   "metadata": {},
   "source": [
    "## Preprocessing"
   ]
  },
  {
   "cell_type": "markdown",
   "metadata": {},
   "source": [
    "#### Conversions"
   ]
  },
  {
   "cell_type": "code",
   "execution_count": 617,
   "metadata": {},
   "outputs": [],
   "source": [
    "#renaming dates column in usage data to have the same name\n",
    "data['megaline_calls'].rename(columns={'call_date':'date'}, inplace=True)\n",
    "data['megaline_internet'].rename(columns={'session_date':'date'}, inplace=True)\n",
    "data['megaline_messages'].rename(columns={'message_date':'date'}, inplace=True)"
   ]
  },
  {
   "cell_type": "code",
   "execution_count": 618,
   "metadata": {},
   "outputs": [],
   "source": [
    "#conveting dates to timestamp\n",
    "for df in ['megaline_calls','megaline_internet','megaline_messages']:\n",
    "    data[df]['date'] = pd.to_datetime(data[df]['date'])\n",
    "#data['megaline_calls']['date'].describe()"
   ]
  },
  {
   "cell_type": "code",
   "execution_count": 619,
   "metadata": {},
   "outputs": [],
   "source": [
    "#conveting dates in megaline_users to timestamp\n",
    "data['megaline_users']['reg_date'] = pd.to_datetime(data['megaline_users']['reg_date'])\n",
    "#data['megaline_users']['reg_date'].describe\n",
    "data['megaline_users']['churn_date'] = pd.to_datetime(data['megaline_users']['churn_date'])\n",
    "#data['megaline_users']['churn_date'].describe()"
   ]
  },
  {
   "cell_type": "markdown",
   "metadata": {},
   "source": [
    "#### Cleansing"
   ]
  },
  {
   "cell_type": "code",
   "execution_count": 620,
   "metadata": {},
   "outputs": [
    {
     "data": {
      "text/plain": [
       "19.48233927469416"
      ]
     },
     "execution_count": 620,
     "metadata": {},
     "output_type": "execute_result"
    }
   ],
   "source": [
    "#counting the number of 0 min calls (the first quartile is less than 1.29)\n",
    "100*data['megaline_calls'].query('duration==0')['duration'].count() / data['megaline_calls'].shape[0]"
   ]
  },
  {
   "cell_type": "markdown",
   "metadata": {},
   "source": [
    "About 20% of all calls lasts 0 minutes, probably call that weren't answered."
   ]
  },
  {
   "cell_type": "code",
   "execution_count": 621,
   "metadata": {},
   "outputs": [
    {
     "data": {
      "text/html": [
       "<div>\n",
       "<style scoped>\n",
       "    .dataframe tbody tr th:only-of-type {\n",
       "        vertical-align: middle;\n",
       "    }\n",
       "\n",
       "    .dataframe tbody tr th {\n",
       "        vertical-align: top;\n",
       "    }\n",
       "\n",
       "    .dataframe thead th {\n",
       "        text-align: right;\n",
       "    }\n",
       "</style>\n",
       "<table border=\"1\" class=\"dataframe\">\n",
       "  <thead>\n",
       "    <tr style=\"text-align: right;\">\n",
       "      <th></th>\n",
       "      <th>user_id</th>\n",
       "      <th>duration</th>\n",
       "    </tr>\n",
       "  </thead>\n",
       "  <tbody>\n",
       "    <tr>\n",
       "      <td>count</td>\n",
       "      <td>110901.000000</td>\n",
       "      <td>110901.000000</td>\n",
       "    </tr>\n",
       "    <tr>\n",
       "      <td>mean</td>\n",
       "      <td>1247.511871</td>\n",
       "      <td>8.378196</td>\n",
       "    </tr>\n",
       "    <tr>\n",
       "      <td>std</td>\n",
       "      <td>139.475249</td>\n",
       "      <td>5.354567</td>\n",
       "    </tr>\n",
       "    <tr>\n",
       "      <td>min</td>\n",
       "      <td>1000.000000</td>\n",
       "      <td>0.010000</td>\n",
       "    </tr>\n",
       "    <tr>\n",
       "      <td>25%</td>\n",
       "      <td>1127.000000</td>\n",
       "      <td>4.150000</td>\n",
       "    </tr>\n",
       "    <tr>\n",
       "      <td>50%</td>\n",
       "      <td>1247.000000</td>\n",
       "      <td>7.710000</td>\n",
       "    </tr>\n",
       "    <tr>\n",
       "      <td>75%</td>\n",
       "      <td>1365.000000</td>\n",
       "      <td>11.820000</td>\n",
       "    </tr>\n",
       "    <tr>\n",
       "      <td>max</td>\n",
       "      <td>1499.000000</td>\n",
       "      <td>37.600000</td>\n",
       "    </tr>\n",
       "  </tbody>\n",
       "</table>\n",
       "</div>"
      ],
      "text/plain": [
       "             user_id       duration\n",
       "count  110901.000000  110901.000000\n",
       "mean     1247.511871       8.378196\n",
       "std       139.475249       5.354567\n",
       "min      1000.000000       0.010000\n",
       "25%      1127.000000       4.150000\n",
       "50%      1247.000000       7.710000\n",
       "75%      1365.000000      11.820000\n",
       "max      1499.000000      37.600000"
      ]
     },
     "execution_count": 621,
     "metadata": {},
     "output_type": "execute_result"
    }
   ],
   "source": [
    "#evaluating quartiles when slicing only calls duration > 0\n",
    "data['megaline_calls'][data['megaline_calls']['duration']>0].describe()"
   ]
  },
  {
   "cell_type": "markdown",
   "metadata": {},
   "source": [
    "When eliminating duration=0 the first quartile moves from 1.29 to 4.15"
   ]
  },
  {
   "cell_type": "code",
   "execution_count": 622,
   "metadata": {},
   "outputs": [
    {
     "data": {
      "text/plain": [
       "0.1311423801574052"
      ]
     },
     "execution_count": 622,
     "metadata": {},
     "output_type": "execute_result"
    }
   ],
   "source": [
    "#counting the number of 0 mb sessions \n",
    "data['megaline_internet'].query('mb_used == 0')['mb_used'].count() / data['megaline_internet'].shape[0]"
   ]
  },
  {
   "cell_type": "markdown",
   "metadata": {},
   "source": [
    "About 13% of all sessions are 0 mb, probably due to a few kb sessions that were rounded to zero."
   ]
  },
  {
   "cell_type": "code",
   "execution_count": 623,
   "metadata": {},
   "outputs": [
    {
     "data": {
      "text/html": [
       "<div>\n",
       "<style scoped>\n",
       "    .dataframe tbody tr th:only-of-type {\n",
       "        vertical-align: middle;\n",
       "    }\n",
       "\n",
       "    .dataframe tbody tr th {\n",
       "        vertical-align: top;\n",
       "    }\n",
       "\n",
       "    .dataframe thead th {\n",
       "        text-align: right;\n",
       "    }\n",
       "</style>\n",
       "<table border=\"1\" class=\"dataframe\">\n",
       "  <thead>\n",
       "    <tr style=\"text-align: right;\">\n",
       "      <th></th>\n",
       "      <th>user_id</th>\n",
       "      <th>mb_used</th>\n",
       "    </tr>\n",
       "  </thead>\n",
       "  <tbody>\n",
       "    <tr>\n",
       "      <td>count</td>\n",
       "      <td>91078.000000</td>\n",
       "      <td>91078.000000</td>\n",
       "    </tr>\n",
       "    <tr>\n",
       "      <td>mean</td>\n",
       "      <td>1242.576923</td>\n",
       "      <td>422.064206</td>\n",
       "    </tr>\n",
       "    <tr>\n",
       "      <td>std</td>\n",
       "      <td>141.992374</td>\n",
       "      <td>255.063501</td>\n",
       "    </tr>\n",
       "    <tr>\n",
       "      <td>min</td>\n",
       "      <td>1000.000000</td>\n",
       "      <td>0.010000</td>\n",
       "    </tr>\n",
       "    <tr>\n",
       "      <td>25%</td>\n",
       "      <td>1122.000000</td>\n",
       "      <td>223.380000</td>\n",
       "    </tr>\n",
       "    <tr>\n",
       "      <td>50%</td>\n",
       "      <td>1236.000000</td>\n",
       "      <td>395.905000</td>\n",
       "    </tr>\n",
       "    <tr>\n",
       "      <td>75%</td>\n",
       "      <td>1367.000000</td>\n",
       "      <td>588.367500</td>\n",
       "    </tr>\n",
       "    <tr>\n",
       "      <td>max</td>\n",
       "      <td>1499.000000</td>\n",
       "      <td>1693.470000</td>\n",
       "    </tr>\n",
       "  </tbody>\n",
       "</table>\n",
       "</div>"
      ],
      "text/plain": [
       "            user_id       mb_used\n",
       "count  91078.000000  91078.000000\n",
       "mean    1242.576923    422.064206\n",
       "std      141.992374    255.063501\n",
       "min     1000.000000      0.010000\n",
       "25%     1122.000000    223.380000\n",
       "50%     1236.000000    395.905000\n",
       "75%     1367.000000    588.367500\n",
       "max     1499.000000   1693.470000"
      ]
     },
     "execution_count": 623,
     "metadata": {},
     "output_type": "execute_result"
    }
   ],
   "source": [
    "#evaluating quartiles when slicing only calls duration > 0\n",
    "data['megaline_internet'][data['megaline_internet']['mb_used']>0].describe()"
   ]
  },
  {
   "cell_type": "markdown",
   "metadata": {},
   "source": [
    "When eliminating mb_used=0 the first quartile moves from 136 to 255 mb"
   ]
  },
  {
   "cell_type": "code",
   "execution_count": 624,
   "metadata": {},
   "outputs": [],
   "source": [
    "#detecting usage out of reg/churn dates\n",
    "\n",
    "#creating empty df for each type\n",
    "usage_outofdate = {}\n",
    "for df in ['megaline_calls','megaline_internet','megaline_messages']:\n",
    "    usage_outofdate[df] = pd.DataFrame(columns=['user_id', 'id', 'date'])\n",
    "users_months = pd.DataFrame(columns=['user_id', 'date'])\n",
    "    \n",
    "#iterating over users to find event out of dates\n",
    "i=0\n",
    "for user in list(data['megaline_users']['user_id']):\n",
    "    for df in ['megaline_calls','megaline_internet','megaline_messages']:\n",
    "        usage_outofdate[df] = usage_outofdate[df].append( \\\n",
    "                data[df].loc[(data[df]['user_id']==user) \\\n",
    "                        & ((data[df]['date'] > data['megaline_users'].iloc[i]['churn_date']) \\\n",
    "                          | (data[df]['date'] < data['megaline_users'].iloc[i]['reg_date'])), \\\n",
    "                             ['user_id', 'id', 'date']])\n",
    "    \n",
    "    #creating df with all usage months per user for future use\n",
    "    for month in pd.date_range(start=data['megaline_users']['reg_date'][i], \\\n",
    "              end=min(pd.to_datetime('2018-12-31'), data['megaline_users']['churn_date'][i]), freq='M') \\\n",
    "              .to_period(\"M\"):\n",
    "        users_months = users_months.append({'user_id':user,'date':month}, ignore_index=True)\n",
    "    i+=1"
   ]
  },
  {
   "cell_type": "code",
   "execution_count": 625,
   "metadata": {},
   "outputs": [
    {
     "name": "stdout",
     "output_type": "stream",
     "text": [
      "0.02149780375358478\n",
      "0.023496303362747436\n",
      "0.020920171989848916\n"
     ]
    }
   ],
   "source": [
    "for df in ['megaline_calls','megaline_internet','megaline_messages']:\n",
    "    print(usage_outofdate[df].shape[0] / data[df].shape[0])"
   ]
  },
  {
   "cell_type": "markdown",
   "metadata": {},
   "source": [
    "About 2% of records have incorrect dates so we can remove them"
   ]
  },
  {
   "cell_type": "code",
   "execution_count": 626,
   "metadata": {},
   "outputs": [],
   "source": [
    "#removing out of date records\n",
    "for df in ['megaline_calls','megaline_internet','megaline_messages']:\n",
    "    data[df].drop(usage_outofdate[df].index, inplace=True)"
   ]
  },
  {
   "cell_type": "markdown",
   "metadata": {},
   "source": [
    "#### Adding Calculations"
   ]
  },
  {
   "cell_type": "code",
   "execution_count": 627,
   "metadata": {},
   "outputs": [
    {
     "name": "stdout",
     "output_type": "stream",
     "text": [
      "2018-01-01 00:00:00 2018-12-31 00:00:00\n"
     ]
    }
   ],
   "source": [
    "#getting relevant months\n",
    "print(data['megaline_users']['reg_date'].min(), data['megaline_users']['churn_date'].max())"
   ]
  },
  {
   "cell_type": "code",
   "execution_count": 629,
   "metadata": {},
   "outputs": [],
   "source": [
    "#adding column with only yyyy-mm for monthly usage calculations\n",
    "for df in ['megaline_calls','megaline_internet','megaline_messages']:\n",
    "    data[df]['year_month']=data[df]['date'].dt.to_period(\"M\")"
   ]
  },
  {
   "cell_type": "code",
   "execution_count": 630,
   "metadata": {},
   "outputs": [
    {
     "name": "stderr",
     "output_type": "stream",
     "text": [
      "C:\\Users\\Yael\\Anaconda3\\lib\\site-packages\\pandas\\core\\reshape\\merge.py:617: UserWarning: merging between different levels can give an unintended result (2 levels on the left, 1 on the right)\n",
      "  warnings.warn(msg, UserWarning)\n"
     ]
    }
   ],
   "source": [
    "#addind pivot tables calculations for number of calls, sms and minutes, mb used per month\n",
    "data['megaline_monthly_usage'] = \\\n",
    "    data['megaline_calls'].pivot_table(index=['user_id','year_month'], values='duration', aggfunc=['count', 'sum']) \\\n",
    "    .reindex(users_months) \\\n",
    "    .join(data['megaline_messages'].pivot_table(index=['user_id','year_month'], values='id', aggfunc='count'), \\\n",
    "          how='left', lsuffix='_left', rsuffix='_right') \\\n",
    "    .join(data['megaline_internet'].pivot_table(index=['user_id','year_month'], values='mb_used', aggfunc='sum'), \\\n",
    "          how='left', lsuffix='_left', rsuffix='_right') \\\n",
    "    \n",
    "data['megaline_monthly_usage'].columns = \\\n",
    "    ['calls_per_month', 'call_duration_per_month', 'messages_per_month', 'mb_per_month']              "
   ]
  },
  {
   "cell_type": "code",
   "execution_count": 631,
   "metadata": {},
   "outputs": [
    {
     "data": {
      "text/html": [
       "<div>\n",
       "<style scoped>\n",
       "    .dataframe tbody tr th:only-of-type {\n",
       "        vertical-align: middle;\n",
       "    }\n",
       "\n",
       "    .dataframe tbody tr th {\n",
       "        vertical-align: top;\n",
       "    }\n",
       "\n",
       "    .dataframe thead th {\n",
       "        text-align: right;\n",
       "    }\n",
       "</style>\n",
       "<table border=\"1\" class=\"dataframe\">\n",
       "  <thead>\n",
       "    <tr style=\"text-align: right;\">\n",
       "      <th></th>\n",
       "      <th></th>\n",
       "      <th>calls_per_month</th>\n",
       "      <th>call_duration_per_month</th>\n",
       "      <th>messages_per_month</th>\n",
       "      <th>mb_per_month</th>\n",
       "    </tr>\n",
       "    <tr>\n",
       "      <th>user_id</th>\n",
       "      <th>year_month</th>\n",
       "      <th></th>\n",
       "      <th></th>\n",
       "      <th></th>\n",
       "      <th></th>\n",
       "    </tr>\n",
       "  </thead>\n",
       "  <tbody>\n",
       "    <tr>\n",
       "      <td>1000</td>\n",
       "      <td>2018-12</td>\n",
       "      <td>16.0</td>\n",
       "      <td>116.83</td>\n",
       "      <td>11.0</td>\n",
       "      <td>1901.47</td>\n",
       "    </tr>\n",
       "    <tr>\n",
       "      <td rowspan=\"4\" valign=\"top\">1001</td>\n",
       "      <td>2018-08</td>\n",
       "      <td>27.0</td>\n",
       "      <td>171.14</td>\n",
       "      <td>30.0</td>\n",
       "      <td>6919.15</td>\n",
       "    </tr>\n",
       "    <tr>\n",
       "      <td>2018-09</td>\n",
       "      <td>49.0</td>\n",
       "      <td>297.69</td>\n",
       "      <td>44.0</td>\n",
       "      <td>13314.82</td>\n",
       "    </tr>\n",
       "    <tr>\n",
       "      <td>2018-10</td>\n",
       "      <td>65.0</td>\n",
       "      <td>374.11</td>\n",
       "      <td>53.0</td>\n",
       "      <td>22330.49</td>\n",
       "    </tr>\n",
       "    <tr>\n",
       "      <td>2018-11</td>\n",
       "      <td>64.0</td>\n",
       "      <td>404.59</td>\n",
       "      <td>36.0</td>\n",
       "      <td>18504.30</td>\n",
       "    </tr>\n",
       "    <tr>\n",
       "      <td>...</td>\n",
       "      <td>...</td>\n",
       "      <td>...</td>\n",
       "      <td>...</td>\n",
       "      <td>...</td>\n",
       "      <td>...</td>\n",
       "    </tr>\n",
       "    <tr>\n",
       "      <td rowspan=\"5\" valign=\"top\">1499</td>\n",
       "      <td>2018-08</td>\n",
       "      <td>NaN</td>\n",
       "      <td>NaN</td>\n",
       "      <td>NaN</td>\n",
       "      <td>NaN</td>\n",
       "    </tr>\n",
       "    <tr>\n",
       "      <td>2018-09</td>\n",
       "      <td>41.0</td>\n",
       "      <td>330.37</td>\n",
       "      <td>NaN</td>\n",
       "      <td>12984.76</td>\n",
       "    </tr>\n",
       "    <tr>\n",
       "      <td>2018-10</td>\n",
       "      <td>53.0</td>\n",
       "      <td>363.28</td>\n",
       "      <td>NaN</td>\n",
       "      <td>19492.43</td>\n",
       "    </tr>\n",
       "    <tr>\n",
       "      <td>2018-11</td>\n",
       "      <td>45.0</td>\n",
       "      <td>288.56</td>\n",
       "      <td>NaN</td>\n",
       "      <td>16813.83</td>\n",
       "    </tr>\n",
       "    <tr>\n",
       "      <td>2018-12</td>\n",
       "      <td>65.0</td>\n",
       "      <td>468.10</td>\n",
       "      <td>NaN</td>\n",
       "      <td>22059.21</td>\n",
       "    </tr>\n",
       "  </tbody>\n",
       "</table>\n",
       "<p>3283 rows × 4 columns</p>\n",
       "</div>"
      ],
      "text/plain": [
       "                    calls_per_month  call_duration_per_month  \\\n",
       "user_id year_month                                             \n",
       "1000    2018-12                16.0                   116.83   \n",
       "1001    2018-08                27.0                   171.14   \n",
       "        2018-09                49.0                   297.69   \n",
       "        2018-10                65.0                   374.11   \n",
       "        2018-11                64.0                   404.59   \n",
       "...                             ...                      ...   \n",
       "1499    2018-08                 NaN                      NaN   \n",
       "        2018-09                41.0                   330.37   \n",
       "        2018-10                53.0                   363.28   \n",
       "        2018-11                45.0                   288.56   \n",
       "        2018-12                65.0                   468.10   \n",
       "\n",
       "                    messages_per_month  mb_per_month  \n",
       "user_id year_month                                    \n",
       "1000    2018-12                   11.0       1901.47  \n",
       "1001    2018-08                   30.0       6919.15  \n",
       "        2018-09                   44.0      13314.82  \n",
       "        2018-10                   53.0      22330.49  \n",
       "        2018-11                   36.0      18504.30  \n",
       "...                                ...           ...  \n",
       "1499    2018-08                    NaN           NaN  \n",
       "        2018-09                    NaN      12984.76  \n",
       "        2018-10                    NaN      19492.43  \n",
       "        2018-11                    NaN      16813.83  \n",
       "        2018-12                    NaN      22059.21  \n",
       "\n",
       "[3283 rows x 4 columns]"
      ]
     },
     "execution_count": 631,
     "metadata": {},
     "output_type": "execute_result"
    }
   ],
   "source": [
    "data['megaline_monthly_usage']"
   ]
  },
  {
   "cell_type": "code",
   "execution_count": 632,
   "metadata": {},
   "outputs": [],
   "source": [
    "#calculating mask indices for ultimate, surf users\n",
    "ultimate_users = data['megaline_users'].loc[data['megaline_users']['tariff']=='ultimate','user_id']\n",
    "ultimate_mask = data['megaline_monthly_usage'].eval('user_id in @ultimate_users')\n",
    "surf_users = data['megaline_users'].loc[data['megaline_users']['tariff']=='surf','user_id']\n",
    "surf_mask = data['megaline_monthly_usage'].eval('user_id in @surf_users')"
   ]
  },
  {
   "cell_type": "code",
   "execution_count": 633,
   "metadata": {},
   "outputs": [],
   "source": [
    "#calculating monthly profit per user per month\n",
    "i=0\n",
    "for mask in [surf_mask, ultimate_mask]:\n",
    "    tar=data[\"megaline_tariffs\"].iloc[i,:] #the tariff row\n",
    "    #calculate exceeded use for users\n",
    "        #exceeded minutes per month\n",
    "    data['megaline_monthly_usage'].loc[mask,'minutes_exceeded'] = np.maximum(0, \\\n",
    "        data['megaline_monthly_usage'].loc[mask,'call_duration_per_month'] \\\n",
    "        .sub(tar['minutes_included']))\n",
    "        #exceeded messages per month\n",
    "    data['megaline_monthly_usage'].loc[mask, 'messages_exceeded'] = np.maximum(0, \\\n",
    "        data['megaline_monthly_usage'].loc[mask,'messages_per_month'] \\\n",
    "        .sub(tar['messages_included']))\n",
    "        #exceeded mb per month\n",
    "    data['megaline_monthly_usage'].loc[mask,'mb_exceeded'] = np.maximum(0, \\\n",
    "        data['megaline_monthly_usage'].loc[mask,'mb_per_month'] \\\n",
    "        .sub(tar['mb_per_month_included']))\n",
    "    \n",
    "    #calculate total profit from users\n",
    "    data['megaline_monthly_usage'].loc[mask,'profit_per_month'] = \\\n",
    "        (np.maximum(0,data['megaline_monthly_usage'].loc[mask,'minutes_exceeded']) \\\n",
    "         * tar['usd_per_minute']) \\\n",
    "        .add(np.maximum(0,data['megaline_monthly_usage'].loc[mask,'messages_exceeded']) \\\n",
    "             * tar['usd_per_message'], fill_value=0) \\\n",
    "          .add(np.maximum(0,data['megaline_monthly_usage'].loc[mask,'mb_exceeded']) \\\n",
    "               * (tar['usd_per_gb'] / 1024), fill_value=0) \\\n",
    "           .add(tar['usd_monthly_pay'],fill_value=0)\n",
    "    i+=1"
   ]
  },
  {
   "cell_type": "code",
   "execution_count": 634,
   "metadata": {},
   "outputs": [
    {
     "data": {
      "text/html": [
       "<div>\n",
       "<style scoped>\n",
       "    .dataframe tbody tr th:only-of-type {\n",
       "        vertical-align: middle;\n",
       "    }\n",
       "\n",
       "    .dataframe tbody tr th {\n",
       "        vertical-align: top;\n",
       "    }\n",
       "\n",
       "    .dataframe thead th {\n",
       "        text-align: right;\n",
       "    }\n",
       "</style>\n",
       "<table border=\"1\" class=\"dataframe\">\n",
       "  <thead>\n",
       "    <tr style=\"text-align: right;\">\n",
       "      <th></th>\n",
       "      <th></th>\n",
       "      <th>calls_per_month</th>\n",
       "      <th>call_duration_per_month</th>\n",
       "      <th>messages_per_month</th>\n",
       "      <th>mb_per_month</th>\n",
       "      <th>minutes_exceeded</th>\n",
       "      <th>messages_exceeded</th>\n",
       "      <th>mb_exceeded</th>\n",
       "      <th>profit_per_month</th>\n",
       "    </tr>\n",
       "    <tr>\n",
       "      <th>user_id</th>\n",
       "      <th>year_month</th>\n",
       "      <th></th>\n",
       "      <th></th>\n",
       "      <th></th>\n",
       "      <th></th>\n",
       "      <th></th>\n",
       "      <th></th>\n",
       "      <th></th>\n",
       "      <th></th>\n",
       "    </tr>\n",
       "  </thead>\n",
       "  <tbody>\n",
       "    <tr>\n",
       "      <td>1000</td>\n",
       "      <td>2018-12</td>\n",
       "      <td>16.0</td>\n",
       "      <td>116.83</td>\n",
       "      <td>11.0</td>\n",
       "      <td>1901.47</td>\n",
       "      <td>0.0</td>\n",
       "      <td>0.0</td>\n",
       "      <td>0.00</td>\n",
       "      <td>70.000000</td>\n",
       "    </tr>\n",
       "    <tr>\n",
       "      <td rowspan=\"5\" valign=\"top\">1001</td>\n",
       "      <td>2018-08</td>\n",
       "      <td>27.0</td>\n",
       "      <td>171.14</td>\n",
       "      <td>30.0</td>\n",
       "      <td>6919.15</td>\n",
       "      <td>0.0</td>\n",
       "      <td>0.0</td>\n",
       "      <td>0.00</td>\n",
       "      <td>20.000000</td>\n",
       "    </tr>\n",
       "    <tr>\n",
       "      <td>2018-09</td>\n",
       "      <td>49.0</td>\n",
       "      <td>297.69</td>\n",
       "      <td>44.0</td>\n",
       "      <td>13314.82</td>\n",
       "      <td>0.0</td>\n",
       "      <td>0.0</td>\n",
       "      <td>0.00</td>\n",
       "      <td>20.000000</td>\n",
       "    </tr>\n",
       "    <tr>\n",
       "      <td>2018-10</td>\n",
       "      <td>65.0</td>\n",
       "      <td>374.11</td>\n",
       "      <td>53.0</td>\n",
       "      <td>22330.49</td>\n",
       "      <td>0.0</td>\n",
       "      <td>3.0</td>\n",
       "      <td>6970.49</td>\n",
       "      <td>88.161191</td>\n",
       "    </tr>\n",
       "    <tr>\n",
       "      <td>2018-11</td>\n",
       "      <td>64.0</td>\n",
       "      <td>404.59</td>\n",
       "      <td>36.0</td>\n",
       "      <td>18504.30</td>\n",
       "      <td>0.0</td>\n",
       "      <td>0.0</td>\n",
       "      <td>3144.30</td>\n",
       "      <td>50.706055</td>\n",
       "    </tr>\n",
       "    <tr>\n",
       "      <td>2018-12</td>\n",
       "      <td>56.0</td>\n",
       "      <td>392.93</td>\n",
       "      <td>44.0</td>\n",
       "      <td>19369.18</td>\n",
       "      <td>0.0</td>\n",
       "      <td>0.0</td>\n",
       "      <td>4009.18</td>\n",
       "      <td>59.152148</td>\n",
       "    </tr>\n",
       "    <tr>\n",
       "      <td rowspan=\"3\" valign=\"top\">1002</td>\n",
       "      <td>2018-10</td>\n",
       "      <td>11.0</td>\n",
       "      <td>54.13</td>\n",
       "      <td>15.0</td>\n",
       "      <td>6552.01</td>\n",
       "      <td>0.0</td>\n",
       "      <td>0.0</td>\n",
       "      <td>0.00</td>\n",
       "      <td>20.000000</td>\n",
       "    </tr>\n",
       "    <tr>\n",
       "      <td>2018-11</td>\n",
       "      <td>55.0</td>\n",
       "      <td>359.76</td>\n",
       "      <td>32.0</td>\n",
       "      <td>19345.08</td>\n",
       "      <td>0.0</td>\n",
       "      <td>0.0</td>\n",
       "      <td>3985.08</td>\n",
       "      <td>58.916797</td>\n",
       "    </tr>\n",
       "    <tr>\n",
       "      <td>2018-12</td>\n",
       "      <td>47.0</td>\n",
       "      <td>363.24</td>\n",
       "      <td>41.0</td>\n",
       "      <td>14396.24</td>\n",
       "      <td>0.0</td>\n",
       "      <td>0.0</td>\n",
       "      <td>0.00</td>\n",
       "      <td>20.000000</td>\n",
       "    </tr>\n",
       "    <tr>\n",
       "      <td rowspan=\"11\" valign=\"top\">1003</td>\n",
       "      <td>2018-01</td>\n",
       "      <td>NaN</td>\n",
       "      <td>NaN</td>\n",
       "      <td>NaN</td>\n",
       "      <td>NaN</td>\n",
       "      <td>NaN</td>\n",
       "      <td>NaN</td>\n",
       "      <td>NaN</td>\n",
       "      <td>20.000000</td>\n",
       "    </tr>\n",
       "    <tr>\n",
       "      <td>2018-02</td>\n",
       "      <td>NaN</td>\n",
       "      <td>NaN</td>\n",
       "      <td>NaN</td>\n",
       "      <td>NaN</td>\n",
       "      <td>NaN</td>\n",
       "      <td>NaN</td>\n",
       "      <td>NaN</td>\n",
       "      <td>20.000000</td>\n",
       "    </tr>\n",
       "    <tr>\n",
       "      <td>2018-03</td>\n",
       "      <td>NaN</td>\n",
       "      <td>NaN</td>\n",
       "      <td>NaN</td>\n",
       "      <td>NaN</td>\n",
       "      <td>NaN</td>\n",
       "      <td>NaN</td>\n",
       "      <td>NaN</td>\n",
       "      <td>20.000000</td>\n",
       "    </tr>\n",
       "    <tr>\n",
       "      <td>2018-04</td>\n",
       "      <td>NaN</td>\n",
       "      <td>NaN</td>\n",
       "      <td>NaN</td>\n",
       "      <td>NaN</td>\n",
       "      <td>NaN</td>\n",
       "      <td>NaN</td>\n",
       "      <td>NaN</td>\n",
       "      <td>20.000000</td>\n",
       "    </tr>\n",
       "    <tr>\n",
       "      <td>2018-05</td>\n",
       "      <td>NaN</td>\n",
       "      <td>NaN</td>\n",
       "      <td>NaN</td>\n",
       "      <td>NaN</td>\n",
       "      <td>NaN</td>\n",
       "      <td>NaN</td>\n",
       "      <td>NaN</td>\n",
       "      <td>20.000000</td>\n",
       "    </tr>\n",
       "    <tr>\n",
       "      <td>2018-06</td>\n",
       "      <td>NaN</td>\n",
       "      <td>NaN</td>\n",
       "      <td>NaN</td>\n",
       "      <td>NaN</td>\n",
       "      <td>NaN</td>\n",
       "      <td>NaN</td>\n",
       "      <td>NaN</td>\n",
       "      <td>20.000000</td>\n",
       "    </tr>\n",
       "    <tr>\n",
       "      <td>2018-07</td>\n",
       "      <td>NaN</td>\n",
       "      <td>NaN</td>\n",
       "      <td>NaN</td>\n",
       "      <td>NaN</td>\n",
       "      <td>NaN</td>\n",
       "      <td>NaN</td>\n",
       "      <td>NaN</td>\n",
       "      <td>20.000000</td>\n",
       "    </tr>\n",
       "    <tr>\n",
       "      <td>2018-08</td>\n",
       "      <td>NaN</td>\n",
       "      <td>NaN</td>\n",
       "      <td>NaN</td>\n",
       "      <td>NaN</td>\n",
       "      <td>NaN</td>\n",
       "      <td>NaN</td>\n",
       "      <td>NaN</td>\n",
       "      <td>20.000000</td>\n",
       "    </tr>\n",
       "    <tr>\n",
       "      <td>2018-09</td>\n",
       "      <td>NaN</td>\n",
       "      <td>NaN</td>\n",
       "      <td>NaN</td>\n",
       "      <td>NaN</td>\n",
       "      <td>NaN</td>\n",
       "      <td>NaN</td>\n",
       "      <td>NaN</td>\n",
       "      <td>20.000000</td>\n",
       "    </tr>\n",
       "    <tr>\n",
       "      <td>2018-10</td>\n",
       "      <td>NaN</td>\n",
       "      <td>NaN</td>\n",
       "      <td>NaN</td>\n",
       "      <td>NaN</td>\n",
       "      <td>NaN</td>\n",
       "      <td>NaN</td>\n",
       "      <td>NaN</td>\n",
       "      <td>20.000000</td>\n",
       "    </tr>\n",
       "    <tr>\n",
       "      <td>2018-11</td>\n",
       "      <td>NaN</td>\n",
       "      <td>NaN</td>\n",
       "      <td>NaN</td>\n",
       "      <td>NaN</td>\n",
       "      <td>NaN</td>\n",
       "      <td>NaN</td>\n",
       "      <td>NaN</td>\n",
       "      <td>20.000000</td>\n",
       "    </tr>\n",
       "  </tbody>\n",
       "</table>\n",
       "</div>"
      ],
      "text/plain": [
       "                    calls_per_month  call_duration_per_month  \\\n",
       "user_id year_month                                             \n",
       "1000    2018-12                16.0                   116.83   \n",
       "1001    2018-08                27.0                   171.14   \n",
       "        2018-09                49.0                   297.69   \n",
       "        2018-10                65.0                   374.11   \n",
       "        2018-11                64.0                   404.59   \n",
       "        2018-12                56.0                   392.93   \n",
       "1002    2018-10                11.0                    54.13   \n",
       "        2018-11                55.0                   359.76   \n",
       "        2018-12                47.0                   363.24   \n",
       "1003    2018-01                 NaN                      NaN   \n",
       "        2018-02                 NaN                      NaN   \n",
       "        2018-03                 NaN                      NaN   \n",
       "        2018-04                 NaN                      NaN   \n",
       "        2018-05                 NaN                      NaN   \n",
       "        2018-06                 NaN                      NaN   \n",
       "        2018-07                 NaN                      NaN   \n",
       "        2018-08                 NaN                      NaN   \n",
       "        2018-09                 NaN                      NaN   \n",
       "        2018-10                 NaN                      NaN   \n",
       "        2018-11                 NaN                      NaN   \n",
       "\n",
       "                    messages_per_month  mb_per_month  minutes_exceeded  \\\n",
       "user_id year_month                                                       \n",
       "1000    2018-12                   11.0       1901.47               0.0   \n",
       "1001    2018-08                   30.0       6919.15               0.0   \n",
       "        2018-09                   44.0      13314.82               0.0   \n",
       "        2018-10                   53.0      22330.49               0.0   \n",
       "        2018-11                   36.0      18504.30               0.0   \n",
       "        2018-12                   44.0      19369.18               0.0   \n",
       "1002    2018-10                   15.0       6552.01               0.0   \n",
       "        2018-11                   32.0      19345.08               0.0   \n",
       "        2018-12                   41.0      14396.24               0.0   \n",
       "1003    2018-01                    NaN           NaN               NaN   \n",
       "        2018-02                    NaN           NaN               NaN   \n",
       "        2018-03                    NaN           NaN               NaN   \n",
       "        2018-04                    NaN           NaN               NaN   \n",
       "        2018-05                    NaN           NaN               NaN   \n",
       "        2018-06                    NaN           NaN               NaN   \n",
       "        2018-07                    NaN           NaN               NaN   \n",
       "        2018-08                    NaN           NaN               NaN   \n",
       "        2018-09                    NaN           NaN               NaN   \n",
       "        2018-10                    NaN           NaN               NaN   \n",
       "        2018-11                    NaN           NaN               NaN   \n",
       "\n",
       "                    messages_exceeded  mb_exceeded  profit_per_month  \n",
       "user_id year_month                                                    \n",
       "1000    2018-12                   0.0         0.00         70.000000  \n",
       "1001    2018-08                   0.0         0.00         20.000000  \n",
       "        2018-09                   0.0         0.00         20.000000  \n",
       "        2018-10                   3.0      6970.49         88.161191  \n",
       "        2018-11                   0.0      3144.30         50.706055  \n",
       "        2018-12                   0.0      4009.18         59.152148  \n",
       "1002    2018-10                   0.0         0.00         20.000000  \n",
       "        2018-11                   0.0      3985.08         58.916797  \n",
       "        2018-12                   0.0         0.00         20.000000  \n",
       "1003    2018-01                   NaN          NaN         20.000000  \n",
       "        2018-02                   NaN          NaN         20.000000  \n",
       "        2018-03                   NaN          NaN         20.000000  \n",
       "        2018-04                   NaN          NaN         20.000000  \n",
       "        2018-05                   NaN          NaN         20.000000  \n",
       "        2018-06                   NaN          NaN         20.000000  \n",
       "        2018-07                   NaN          NaN         20.000000  \n",
       "        2018-08                   NaN          NaN         20.000000  \n",
       "        2018-09                   NaN          NaN         20.000000  \n",
       "        2018-10                   NaN          NaN         20.000000  \n",
       "        2018-11                   NaN          NaN         20.000000  "
      ]
     },
     "execution_count": 634,
     "metadata": {},
     "output_type": "execute_result"
    }
   ],
   "source": [
    "data['megaline_monthly_usage'].head(20)"
   ]
  },
  {
   "cell_type": "markdown",
   "metadata": {},
   "source": [
    "## Analysis"
   ]
  },
  {
   "cell_type": "code",
   "execution_count": 635,
   "metadata": {},
   "outputs": [
    {
     "name": "stdout",
     "output_type": "stream",
     "text": [
      "surf statistics\n",
      "                           median     mean         var     std   min      max\n",
      "calls_per_month             60.0     60.8       987.0    31.4   1.0    205.0\n",
      "call_duration_per_month    405.6    411.6     47475.1   217.9   0.0   1431.2\n",
      "messages_per_month          32.0     39.9      1100.7    33.2   1.0    266.0\n",
      "mb_per_month             16922.1  16704.7  62437415.2  7901.7  92.3  70931.6\n",
      "minutes_exceeded             0.0     50.0     12496.4   111.8   0.0    931.2\n",
      "messages_exceeded            0.0      9.0       474.5    21.8   0.0    216.0\n",
      "mb_exceeded               1562.1   3674.0  29709909.6  5450.7   0.0  55571.6\n",
      "profit_per_month            20.0     45.6      2296.6    47.9  20.0    581.3 \n",
      "\n",
      "\n",
      "ultimate statistics\n",
      "                           median     mean         var     std    min      max\n",
      "calls_per_month             61.0     61.3      1086.7    33.0    2.0    191.0\n",
      "call_duration_per_month    403.6    410.8     50855.2   225.5    0.0   1292.1\n",
      "messages_per_month          41.0     46.4      1080.9    32.9    1.0    166.0\n",
      "mb_per_month             16864.9  17246.6  61826382.8  7863.0  233.2  46595.3\n",
      "minutes_exceeded             0.0      0.0         0.0     0.0    0.0      0.0\n",
      "messages_exceeded            0.0      0.0         0.0     0.0    0.0      0.0\n",
      "mb_exceeded                  0.0    315.5   2541331.4  1594.2    0.0  15875.3\n",
      "profit_per_month            70.0     71.4        79.4     8.9   70.0    178.5 \n",
      "\n",
      "\n"
     ]
    }
   ],
   "source": [
    "#calculate usage and profit statistics per plan\n",
    "\n",
    "stat={}\n",
    "for plan,mask in zip(['surf','ultimate'],[surf_mask,ultimate_mask]):\n",
    "    stat[plan]=pd.concat([data['megaline_monthly_usage'].loc[mask,:].median(), \\\n",
    "                        data['megaline_monthly_usage'].loc[mask,:].mean(), \\\n",
    "                        data['megaline_monthly_usage'].loc[mask,:].var(), \\\n",
    "                        data['megaline_monthly_usage'].loc[mask,:].std(), \\\n",
    "                        data['megaline_monthly_usage'].loc[mask,:].min(), \\\n",
    "                        data['megaline_monthly_usage'].loc[mask,:].max()], axis=1)\n",
    "    stat[plan].columns=['median','mean','var','std','min','max']\n",
    "    stat[plan]=stat[plan].round(1)\n",
    "    print(plan , 'statistics\\n',stat[plan],'\\n\\n')   "
   ]
  },
  {
   "cell_type": "markdown",
   "metadata": {},
   "source": [
    "- The medians are pretty much the same for surf and ultimate users \n",
    "- The main exception is mb_exceeded which is more common for surf users. \n",
    "- Ultimate users never exceed their minutes and sms limits.\n",
    "- It's interesting to note that the max usage values are higher for surf users, although they bought a liter plan.\n",
    "- Total profit per month has a median = monthly charge for both plans\n",
    "- About half of surf users has extra charges \n",
    "- The majority of ultimate users doesn't have extra charges (median=mean, very small std)"
   ]
  },
  {
   "cell_type": "code",
   "execution_count": 636,
   "metadata": {},
   "outputs": [
    {
     "name": "stderr",
     "output_type": "stream",
     "text": [
      "C:\\Users\\Yael\\Anaconda3\\lib\\site-packages\\numpy\\lib\\histograms.py:824: RuntimeWarning: invalid value encountered in greater_equal\n",
      "  keep = (tmp_a >= first_edge)\n",
      "C:\\Users\\Yael\\Anaconda3\\lib\\site-packages\\numpy\\lib\\histograms.py:825: RuntimeWarning: invalid value encountered in less_equal\n",
      "  keep &= (tmp_a <= last_edge)\n"
     ]
    },
    {
     "data": {
      "image/png": "[encoded data removed]",
      "text/plain": [
       "<Figure size 432x288 with 1 Axes>"
      ]
     },
     "metadata": {
      "needs_background": "light"
     },
     "output_type": "display_data"
    },
    {
     "data": {
      "text/plain": [
       "<Figure size 1440x360 with 0 Axes>"
      ]
     },
     "metadata": {},
     "output_type": "display_data"
    },
    {
     "data": {
      "image/png": "[encoded data removed]",
      "text/plain": [
       "<Figure size 432x288 with 1 Axes>"
      ]
     },
     "metadata": {
      "needs_background": "light"
     },
     "output_type": "display_data"
    },
    {
     "data": {
      "text/plain": [
       "<Figure size 1440x360 with 0 Axes>"
      ]
     },
     "metadata": {},
     "output_type": "display_data"
    },
    {
     "data": {
      "image/png": "[encoded data removed]",
      "text/plain": [
       "<Figure size 432x288 with 1 Axes>"
      ]
     },
     "metadata": {
      "needs_background": "light"
     },
     "output_type": "display_data"
    },
    {
     "data": {
      "text/plain": [
       "<Figure size 1440x360 with 0 Axes>"
      ]
     },
     "metadata": {},
     "output_type": "display_data"
    },
    {
     "data": {
      "image/png": "[encoded data removed]",
      "text/plain": [
       "<Figure size 432x288 with 1 Axes>"
      ]
     },
     "metadata": {
      "needs_background": "light"
     },
     "output_type": "display_data"
    },
    {
     "data": {
      "text/plain": [
       "<Figure size 1440x360 with 0 Axes>"
      ]
     },
     "metadata": {},
     "output_type": "display_data"
    },
    {
     "data": {
      "image/png": "[encoded data removed]",
      "text/plain": [
       "<Figure size 432x288 with 1 Axes>"
      ]
     },
     "metadata": {
      "needs_background": "light"
     },
     "output_type": "display_data"
    },
    {
     "data": {
      "text/plain": [
       "<Figure size 1440x360 with 0 Axes>"
      ]
     },
     "metadata": {},
     "output_type": "display_data"
    },
    {
     "data": {
      "image/png": "[encoded data removed]",
      "text/plain": [
       "<Figure size 432x288 with 1 Axes>"
      ]
     },
     "metadata": {
      "needs_background": "light"
     },
     "output_type": "display_data"
    },
    {
     "data": {
      "text/plain": [
       "<Figure size 1440x360 with 0 Axes>"
      ]
     },
     "metadata": {},
     "output_type": "display_data"
    },
    {
     "data": {
      "image/png": "[encoded data removed]",
      "text/plain": [
       "<Figure size 432x288 with 1 Axes>"
      ]
     },
     "metadata": {
      "needs_background": "light"
     },
     "output_type": "display_data"
    },
    {
     "data": {
      "text/plain": [
       "<Figure size 1440x360 with 0 Axes>"
      ]
     },
     "metadata": {},
     "output_type": "display_data"
    },
    {
     "data": {
      "image/png": "[encoded data removed]",
      "text/plain": [
       "<Figure size 432x288 with 1 Axes>"
      ]
     },
     "metadata": {
      "needs_background": "light"
     },
     "output_type": "display_data"
    },
    {
     "data": {
      "text/plain": [
       "<Figure size 1440x360 with 0 Axes>"
      ]
     },
     "metadata": {},
     "output_type": "display_data"
    },
    {
     "data": {
      "image/png": "[encoded data removed]",
      "text/plain": [
       "<Figure size 432x288 with 1 Axes>"
      ]
     },
     "metadata": {
      "needs_background": "light"
     },
     "output_type": "display_data"
    },
    {
     "data": {
      "text/plain": [
       "<Figure size 1440x360 with 0 Axes>"
      ]
     },
     "metadata": {},
     "output_type": "display_data"
    },
    {
     "data": {
      "image/png": "[encoded data removed]",
      "text/plain": [
       "<Figure size 432x288 with 1 Axes>"
      ]
     },
     "metadata": {
      "needs_background": "light"
     },
     "output_type": "display_data"
    },
    {
     "data": {
      "text/plain": [
       "<Figure size 1440x360 with 0 Axes>"
      ]
     },
     "metadata": {},
     "output_type": "display_data"
    }
   ],
   "source": [
    "#plot histograms for monthly usages and monthly profit for each plan\n",
    "for plan,mask in zip(['surf','ultimate'],[surf_mask,ultimate_mask]):\n",
    "     for col in ['calls_per_month', 'call_duration_per_month', 'messages_per_month', 'mb_per_month','profit_per_month']:\n",
    "        #plotting histograms      \n",
    "        fig, ax = plt.subplots()\n",
    "        plt.hist(data['megaline_monthly_usage'].loc[mask,col], \\\n",
    "                 range=(stat[plan].loc[col,'min'],stat[plan].loc[col,'max']), bins=50)\n",
    "        plt.xlabel(col)\n",
    "        plt.ylabel('counts for bins=50')\n",
    "        plt.title(col+' Histogram '+plan+' users')\n",
    "        #adding quartiles\n",
    "        quartiles = pd.qcut(data['megaline_monthly_usage'].loc[mask,col],4,retbins=True,duplicates='drop',precision=0)\n",
    "        for q in range(len(quartiles[1])):\n",
    "            plt.axvline(quartiles[1][q], color='g', linewidth=1)\n",
    "            quartiles[1][q]=round(quartiles[1][q])\n",
    "        #adding mean and median\n",
    "        plt.axvline(stat[plan].loc[col,'mean'], color='k', linestyle='dashed', linewidth=1)\n",
    "        plt.axvline(stat[plan].loc[col,'median'], color='r', linestyle='dashed', linewidth=1)\n",
    "        plt.figure(figsize=(20,5))\n",
    "        #adding statistics values on figure\n",
    "        textstr = '\\n'.join((\n",
    "        r'$\\mu=%.2f$' % (stat[plan].loc[col,'mean'], ),\n",
    "        r'$\\mathrm{median}=%.2f$' % (stat[plan].loc[col,'median'], ),\n",
    "        r'$\\sigma=%.2f$' % (stat[plan].loc[col,'std'] ),\n",
    "        ' Quartiles:',str(list(quartiles[1]))))\n",
    "        props = dict(boxstyle='round', facecolor='wheat', alpha=0.5)\n",
    "        ax.text(0.6, 0.95, textstr, transform=ax.transAxes, fontsize=8,\n",
    "        verticalalignment='top', bbox=props)"
   ]
  },
  {
   "cell_type": "code",
   "execution_count": 637,
   "metadata": {},
   "outputs": [
    {
     "data": {
      "text/plain": [
       "0.48963963963963963"
      ]
     },
     "execution_count": 637,
     "metadata": {},
     "output_type": "execute_result"
    }
   ],
   "source": [
    "#what part of surf users pay more than monthly charge\n",
    "data['megaline_monthly_usage'].query('profit_per_month > 20').loc[surf_mask,'profit_per_month'].count() \\\n",
    "/ data['megaline_monthly_usage'].loc[surf_mask,'profit_per_month'].count()"
   ]
  },
  {
   "cell_type": "code",
   "execution_count": 638,
   "metadata": {},
   "outputs": [
    {
     "data": {
      "text/plain": [
       "0.03762935089369708"
      ]
     },
     "execution_count": 638,
     "metadata": {},
     "output_type": "execute_result"
    }
   ],
   "source": [
    "#what part of ultimate users pay more than monthly charge\n",
    "data['megaline_monthly_usage'].query('profit_per_month > 70').loc[ultimate_mask,'profit_per_month'].count() \\\n",
    "/ data['megaline_monthly_usage'].loc[ultimate_mask,'profit_per_month'].count()"
   ]
  },
  {
   "cell_type": "markdown",
   "metadata": {},
   "source": [
    "Surf users:\n",
    "- number of call per month is somewhat gaussian around mean=60 calls and std=0.5mean\n",
    "- call duration behaves the same around mean=411 minutes\n",
    "- messages per month has more users for small values and is decreasing but not continuously\n",
    "- traffic volume is somewhat gaussian around mean=16GB with std ~= 0.5mean\n",
    "- the profit from half of the users is the monthly charge 20\n",
    "- the other half is responsible for profit between 20-581 and increase the average profit to mean=45 ~ twice as the monthly charge, and std is very large ~ mean\n",
    "\n",
    "Ultimate users:\n",
    "- number of call per month is somewhat gaussian around mean=60 calls and std=0.5mean but with much more fluctuations than surf\n",
    "- call duration behaves the same around mean=410 minutes \n",
    "- messages per month has almost similar statistics to surf but with more fluctuation, the decrease with number of messages starts to be significant at 75 messages per month.\n",
    "- traffic volume is somewhat gaussian around mean=16GB with std ~= 0.5mean\n",
    "- the profit from 0.96 of users is the monthly charge 70\n",
    "- only 0.04 of users exeed the plan and pay between 70-179 with very low std\n",
    "\n",
    "The average monthly profit is 45 from surf user and 70 from ultimate user, while the average usage is pretty much the same for both. Thus in a large scale it's more profitable to sell ultimate plans than surf plans. \n",
    "Ultimate plans have another advantage of predictable monthly income, which is more variant in surf plans with large std."
   ]
  },
  {
   "cell_type": "markdown",
   "metadata": {},
   "source": [
    "## Hypotheses"
   ]
  },
  {
   "cell_type": "markdown",
   "metadata": {},
   "source": [
    "### The company earns different amounts from the Ultimate and Surf plans (measured in terms of average monthly revenue)"
   ]
  },
  {
   "cell_type": "markdown",
   "metadata": {},
   "source": [
    "The null H0 hypotheses to be tested is \"The mean of Ultimate profit per month is equal to the mean of Surf profit per month\"\n",
    "The alternative is \"The mean of Ultimate profit per month is not equal to the mean of Surf profit per month\"\n",
    "==> a two sided test is necessary.\n",
    "\n",
    "Choosing alpha:\n",
    "Examining the two possible wrong results:\n",
    "\n",
    "- False-Negative, p<alpha when H0 is actually true in reality.\n",
    "    In this case we'll reject H0 and reccomend to sell more of one plan. The result is the company will give more resources for the \"better plan\" marketing , but the overall profit will stay similar in a large scale because H0 is true and the planss' profits behave the same. ==> no significant loss for false negative (in terms of revenue, not in terms of net income)\n",
    "\n",
    "-False-Positive, p>alpha when H0 is actually False in reality.\n",
    "    In this case we will not reject H0 and reccomend to sell the same of both plans. The result is selling too many less-profitable plans instead of more-profitable plans. Let's assume Ultimate has average profit greater than Surf. \n",
    "    That will give the company an average \"loss\" per wrong-sold surf plan of about 0-50, let's assume 25.\n",
    "    \n",
    "Thus, in terms of revnue, it's much more important to avoid False-Positive than to avoid False-Negative.\n",
    "In combination with the fact that the sample is quite big and less vulnerable to random shifts, it means it's better to choose alpha a little larger than conservative value. \n",
    "\n",
    "I chose to take alpha=0.2, meaning to reject H0 if there's a chance of less than 20% to get these distributions randomly."
   ]
  },
  {
   "cell_type": "code",
   "execution_count": 639,
   "metadata": {},
   "outputs": [
    {
     "name": "stdout",
     "output_type": "stream",
     "text": [
      "p-value: 3.5229267631543866e-119\n",
      "We reject the null hypothesis\n"
     ]
    }
   ],
   "source": [
    "#ttesing H0\n",
    "alpha = 0.2\n",
    "\n",
    "results = stats.ttest_ind(\n",
    "        data['megaline_monthly_usage'].loc[surf_mask,'profit_per_month'], \n",
    "        data['megaline_monthly_usage'].loc[ultimate_mask,'profit_per_month'], equal_var=False)# does not assume equal population variance\n",
    "\n",
    "print('p-value:',results.pvalue)\n",
    "\n",
    "if (results.pvalue < alpha):\n",
    "    print(\"We reject the null hypothesis\")\n",
    "else:\n",
    "    print(\"We can't reject the null hypothesis\")"
   ]
  },
  {
   "cell_type": "markdown",
   "metadata": {},
   "source": [
    "The p value is extremely small, indicating that we should accept the alternative: \"The mean of Ultimate profit per month is not equal to the mean of Surf profit per month\""
   ]
  },
  {
   "cell_type": "markdown",
   "metadata": {},
   "source": [
    "### Average monthly revenue from users in the NY-NJ area differs from that in other regions."
   ]
  },
  {
   "cell_type": "markdown",
   "metadata": {},
   "source": [
    "The null H0 hypotheses to be tested is \"The mean of profit per month from NY-NJ users is equal to the mean of  profit per month in other regions\"\n",
    "The alternative is \"The mean of profit per month from NY-NJ users is not equal to the mean of  profit per month in other regions\"\n",
    "==> a two sided test is necessary.\n",
    "\n",
    "- False-Negative - rejecting H0 will result in reccomendation to put greater/smaller marketing resources in NY-NJ when it's actually unneccesary. The revenue shouldn't change.\n",
    "\n",
    "- False-Positive - not rejecting H0 will result in reccomendation to treat NY-NJ just the same when there's actually a greater/smaller potential fot profit in this area. The revenue will decrease compared to a situation of greater marketing where users bring more money.\n",
    "\n",
    "Again it's more important to avoid False-Positive in terms of revenue, meaning greater alpha.\n",
    "\n",
    "I chose alpha=0.1"
   ]
  },
  {
   "cell_type": "code",
   "execution_count": 640,
   "metadata": {},
   "outputs": [
    {
     "name": "stdout",
     "output_type": "stream",
     "text": [
      "p-value: 0.019779705397045197\n",
      "We reject the null hypothesis\n"
     ]
    }
   ],
   "source": [
    "NYNJ_users = data['megaline_users'].loc[data['megaline_users']['city']=='New York-Newark-Jersey City, NY-NJ-PA MSA','user_id']\n",
    "NYNJ_mask = data['megaline_monthly_usage'].eval('user_id in @NYNJ_users')\n",
    "other_mask = data['megaline_monthly_usage'].eval('user_id not in @NYNJ_users')\n",
    "#ttesing H0\n",
    "alpha = 0.1\n",
    "\n",
    "results = stats.ttest_ind(\n",
    "        data['megaline_monthly_usage'].loc[NYNJ_mask,'profit_per_month'], \n",
    "        data['megaline_monthly_usage'].loc[other_mask,'profit_per_month'], equal_var=False)# does not assume equal population variance\n",
    "\n",
    "print('p-value:',results.pvalue)\n",
    "\n",
    "if (results.pvalue < alpha):\n",
    "    print(\"We reject the null hypothesis\")\n",
    "else:\n",
    "    print(\"We can't reject the null hypothesis\")"
   ]
  },
  {
   "cell_type": "markdown",
   "metadata": {},
   "source": [
    "p value is quite small, inidicating a chance of 2% to get these values randomly, and it would be ok to accept the alternative \"The mean of profit per month from NY-NJ users is not equal to the mean of  profit per month in other regions\""
   ]
  },
  {
   "cell_type": "markdown",
   "metadata": {},
   "source": [
    "## Conclusion"
   ]
  },
  {
   "cell_type": "markdown",
   "metadata": {},
   "source": [
    "- Surf and Ultimate plans have similar statistics regarding monthly call duration, number of messages and traffic volume.\n",
    "- Ultimate users have more fluctuations in usage\n",
    "- The usage is quite similar although Ultimate users have lager limits\n",
    "- Half of surf users exceed monthly charge, compared to 0.04 of Ultimate users\n",
    "- Average monthly profit from Surf user is 45, compared to 70from Ultimate user\n",
    "- Ultimate monthly profit is stable and predictable, unlike Surf monthly profit with large variance\n",
    "- TTest shows very clearly that average monthly revenue is different for the two plans and that it's not a random case\n",
    "- All the above makes it possible to conclude that Ultimate plan may be more profitable even in terms of net profit\n",
    "- Profit differs significanly between cities"
   ]
  }
 ],
 "metadata": {
  "kernelspec": {
   "display_name": "Python 3",
   "language": "python",
   "name": "python3"
  },
  "language_info": {
   "codemirror_mode": {
    "name": "ipython",
    "version": 3
   },
   "file_extension": ".py",
   "mimetype": "text/x-python",
   "name": "python",
   "nbconvert_exporter": "python",
   "pygments_lexer": "ipython3",
   "version": "3.7.4"
  }
 },
 "nbformat": 4,
 "nbformat_minor": 2
}
